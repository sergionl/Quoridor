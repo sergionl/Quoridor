{
  "nbformat": 4,
  "nbformat_minor": 0,
  "metadata": {
    "colab": {
      "name": "Quoridor.ipynb",
      "provenance": [],
      "collapsed_sections": [],
      "include_colab_link": true
    },
    "kernelspec": {
      "name": "python3",
      "display_name": "Python 3"
    }
  },
  "cells": [
    {
      "cell_type": "markdown",
      "metadata": {
        "id": "view-in-github",
        "colab_type": "text"
      },
      "source": [
        "<a href=\"https://colab.research.google.com/github/sergionl/Quoridor/blob/TP2/Quoridor.ipynb\" target=\"_parent\"><img src=\"https://colab.research.google.com/assets/colab-badge.svg\" alt=\"Open In Colab\"/></a>"
      ]
    },
    {
      "cell_type": "code",
      "metadata": {
        "id": "j4q3jU0asY29"
      },
      "source": [
        "from collections import deque"
      ],
      "execution_count": null,
      "outputs": []
    },
    {
      "cell_type": "markdown",
      "metadata": {
        "id": "nBs0MEazhQUo"
      },
      "source": [
        "# Inicializar\n",
        "En esta sección de codigo se inicializa la matriz que representara el tablero. Ademas se inicializa a los jugadores y se colocaran en la matriz, estos estaran representados por un numero(1,2,3,4)"
      ]
    },
    {
      "cell_type": "code",
      "metadata": {
        "id": "8_FzjMWFRt4a",
        "outputId": "a28e60f3-79cf-45a3-9f18-034b560c997b",
        "colab": {
          "base_uri": "https://localhost:8080/",
          "height": 187
        }
      },
      "source": [
        "n=int(input())\n",
        "tablero = []\n",
        "n=n*2-1\n",
        "numj=2\n",
        "for i in range(n):\n",
        "  tablero.append([0]*n)\n",
        "for i in range(n):\n",
        "  for j in range(n):\n",
        "    if i%2!=0 or j%2!=0:\n",
        "      tablero[i][j]=-1\n",
        "\n",
        "posinicial=[(0,n//2),(n-1,n//2),(n//2,0),(n//2,n-1)]\n",
        "posactual=[]\n",
        "#posfinal=[(n-1,n//2),(0,n//2),(n//2,n-1),(n//2,0)]\n",
        "for i in range(numj):\n",
        "  x,y=posinicial[i]\n",
        "  tablero[x][y]=i+1\n",
        "  posactual.append((x,y))\n",
        "  \n",
        "for i in range(n):\n",
        "  print(tablero[i])\n"
      ],
      "execution_count": null,
      "outputs": [
        {
          "output_type": "stream",
          "text": [
            "5\n",
            "[0, -1, 0, -1, 1, -1, 0, -1, 0]\n",
            "[-1, -1, -1, -1, -1, -1, -1, -1, -1]\n",
            "[0, -1, 0, -1, 0, -1, 0, -1, 0]\n",
            "[-1, -1, -1, -1, -1, -1, -1, -1, -1]\n",
            "[0, -1, 0, -1, 0, -1, 0, -1, 0]\n",
            "[-1, -1, -1, -1, -1, -1, -1, -1, -1]\n",
            "[0, -1, 0, -1, 0, -1, 0, -1, 0]\n",
            "[-1, -1, -1, -1, -1, -1, -1, -1, -1]\n",
            "[0, -1, 0, -1, 2, -1, 0, -1, 0]\n"
          ],
          "name": "stdout"
        }
      ]
    },
    {
      "cell_type": "code",
      "metadata": {
        "id": "buNzMLnAr1Fa"
      },
      "source": [
        "q=deque()\n",
        "dx=[1,-1,0,0]#row move\n",
        "dy=[0,0,1,-1]#column move\n",
        "def valid(x,y,x1,y1,dx,dy):\n",
        "  val=tablero[x+dx][y+dx]\n",
        "  if val == -1:#no hay pared\n",
        "    return True\n",
        "  else:\n",
        "    return False\n",
        "\n",
        "def dfs(jug):\n",
        "  "
      ],
      "execution_count": null,
      "outputs": []
    },
    {
      "cell_type": "markdown",
      "metadata": {
        "id": "tDPO9Z5hEdl2"
      },
      "source": [
        "# 2 Algoritmos a usar en la busqueda de camninos\n",
        "En esta sección mostraremos los 2 posibles algoritmos a utilizar en el juego Quoridor."
      ]
    },
    {
      "cell_type": "markdown",
      "metadata": {
        "id": "D85IJBPHE9Qa"
      },
      "source": [
        "## Grafo BFS\n",
        "Se usará como algoritmo un grafo BFS para evaluar los moviminetos de cada jugador. El espacio de busqueda de este algoritmo es de O(V+E) donde V son vertices y E son aristas."
      ]
    },
    {
      "cell_type": "code",
      "metadata": {
        "id": "kzWmGak7eIZZ"
      },
      "source": [
        "def BreadthFirstSearch(board, startCoord, endCoords, ignorePawns = False):\n",
        "        global TRACE\n",
        "        TRACE[\"Path.BreadthFirstSearch\"] += 1\n",
        "        root = PawnMove(None, startCoord)\n",
        "\n",
        "        previousMoves = {startCoord: root}\n",
        "        nextMoves = [root]\n",
        "        validPawnMoves = board.storedValidPawnMovesIgnoringPawns if ignorePawns else board.storedValidPawnMoves\n",
        "        while nextMoves:\n",
        "            move = nextMoves.pop(0)\n",
        "            for endCoord in endCoords:\n",
        "                if move.toCoord == endCoord:\n",
        "                    # Build backward path, then reverse it\n",
        "                    pathMoves = [move]\n",
        "                    while move.fromCoord is not None:\n",
        "                        move = previousMoves[move.fromCoord]\n",
        "                        pathMoves.append(move)\n",
        "                    pathMoves.reverse()\n",
        "                    return Path(pathMoves[1:])\n",
        "            validMoves = validPawnMoves[move.toCoord]\n",
        "            # Sort neighbors to promote neighbors near targets\n",
        "            sorted(validMoves, key=lambda validMove: Path.ManhattanDistanceMulti(validMove.toCoord, endCoords))\n",
        "            for validMove in validMoves:\n",
        "                if validMove.toCoord not in previousMoves:\n",
        "                    previousMoves[validMove.toCoord] = validMove\n",
        "                    nextMoves.append(validMove)\n",
        "        return None"
      ],
      "execution_count": null,
      "outputs": []
    },
    {
      "cell_type": "markdown",
      "metadata": {
        "id": "1o_DKYUcHTN0"
      },
      "source": [
        "## Dijkstra\n",
        "También utilizaremos Dijkstra para definir los pasos de los jugadores, añadir un sistema de puntos y validar si hay una pared o no(no implementado). El espacio de busqueda de este algoritmo es de O(A.log(V)) donde A es el numero de aristas y V el numero de vértices."
      ]
    },
    {
      "cell_type": "code",
      "metadata": {
        "id": "MVgUfGJSIYda"
      },
      "source": [
        "  global TRACE\n",
        "        TRACE[\"Path.Dijkstra\"] += 1\n",
        "        root = PawnMove(None, startCoord)\n",
        "\n",
        "        previousMoves = {startCoord: (0, root)} \n",
        "        nextMoves = [(0, 0, root)] \n",
        "        validPawnMoves = board.storedValidPawnMovesIgnoringPawns if ignorePawns else board.storedValidPawnMoves\n",
        "        while nextMoves:\n",
        "            sorted(nextMoves, key=lambda nextMove: nextMove[1])\n",
        "            (step, score, move) = nextMoves.pop(0)\n",
        "            for endCoord in endCoords:             \n",
        "                if move.toCoord == endCoord:                  \n",
        "                    pathMoves = [move]\n",
        "                    while move.fromCoord is not None:\n",
        "                        move = previousMoves[move.fromCoord][1]\n",
        "                        pathMoves.append(move)\n",
        "                    pathMoves.reverse()\n",
        "                    return Path(pathMoves[1:])       \n",
        "            validMoves = validPawnMoves[move.toCoord]\n",
        "            sorted(validMoves, key=lambda validMove: Path.ManhattanDistanceMulti(validMove.toCoord, endCoords))\n",
        "            for validMove in validMoves:\n",
        "                validMoveScore = score + moveScore(validMove, step + 1)\n",
        "                if validMove.toCoord not in previousMoves:\n",
        "                    previousMoves[validMove.toCoord] = (validMoveScore, validMove)\n",
        "                    nextMoves.append((step + 1, validMoveScore, validMove))\n",
        "                if validMoveScore < previousMoves[validMove.toCoord][0]:\n",
        "                    previousMoves[validMove.toCoord] = (validMoveScore, validMove)\n",
        "        return None"
      ],
      "execution_count": null,
      "outputs": []
    }
  ]
}