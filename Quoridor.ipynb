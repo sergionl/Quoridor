{
  "nbformat": 4,
  "nbformat_minor": 0,
  "metadata": {
    "colab": {
      "name": "Quoridor.ipynb",
      "provenance": [],
      "collapsed_sections": [],
      "authorship_tag": "ABX9TyP5jZCF/o+SJvaYyZADyc5g",
      "include_colab_link": true
    },
    "kernelspec": {
      "name": "python3",
      "display_name": "Python 3"
    }
  },
  "cells": [
    {
      "cell_type": "markdown",
      "metadata": {
        "id": "view-in-github",
        "colab_type": "text"
      },
      "source": [
        "<a href=\"https://colab.research.google.com/github/sergionl/Quoridor/blob/master/Quoridor.ipynb\" target=\"_parent\"><img src=\"https://colab.research.google.com/assets/colab-badge.svg\" alt=\"Open In Colab\"/></a>"
      ]
    },
    {
      "cell_type": "code",
      "metadata": {
        "id": "j4q3jU0asY29",
        "colab_type": "code",
        "colab": {}
      },
      "source": [
        "from collections import deque"
      ],
      "execution_count": null,
      "outputs": []
    },
    {
      "cell_type": "markdown",
      "metadata": {
        "id": "nBs0MEazhQUo",
        "colab_type": "text"
      },
      "source": [
        "# Inicializar\n",
        "En esta sección de codigo se inicializa la matriz que representara el tablero. Ademas se inicializa a los jugadores y se colocaran en la matriz, estos estaran representados por un numero(1,2,3,4)"
      ]
    },
    {
      "cell_type": "code",
      "metadata": {
        "id": "8_FzjMWFRt4a",
        "colab_type": "code",
        "colab": {
          "base_uri": "https://localhost:8080/",
          "height": 187
        },
        "outputId": "a28e60f3-79cf-45a3-9f18-034b560c997b"
      },
      "source": [
        "n=int(input())\n",
        "tablero = []\n",
        "n=n*2-1\n",
        "numj=2\n",
        "for i in range(n):\n",
        "  tablero.append([0]*n)\n",
        "for i in range(n):\n",
        "  for j in range(n):\n",
        "    if i%2!=0 or j%2!=0:\n",
        "      tablero[i][j]=-1\n",
        "\n",
        "posinicial=[(0,n//2),(n-1,n//2),(n//2,0),(n//2,n-1)]\n",
        "posactual=[]\n",
        "#posfinal=[(n-1,n//2),(0,n//2),(n//2,n-1),(n//2,0)]\n",
        "for i in range(numj):\n",
        "  x,y=posinicial[i]\n",
        "  tablero[x][y]=i+1\n",
        "  posactual.append((x,y))\n",
        "  \n",
        "for i in range(n):\n",
        "  print(tablero[i])\n"
      ],
      "execution_count": 25,
      "outputs": [
        {
          "output_type": "stream",
          "text": [
            "5\n",
            "[0, -1, 0, -1, 1, -1, 0, -1, 0]\n",
            "[-1, -1, -1, -1, -1, -1, -1, -1, -1]\n",
            "[0, -1, 0, -1, 0, -1, 0, -1, 0]\n",
            "[-1, -1, -1, -1, -1, -1, -1, -1, -1]\n",
            "[0, -1, 0, -1, 0, -1, 0, -1, 0]\n",
            "[-1, -1, -1, -1, -1, -1, -1, -1, -1]\n",
            "[0, -1, 0, -1, 0, -1, 0, -1, 0]\n",
            "[-1, -1, -1, -1, -1, -1, -1, -1, -1]\n",
            "[0, -1, 0, -1, 2, -1, 0, -1, 0]\n"
          ],
          "name": "stdout"
        }
      ]
    },
    {
      "cell_type": "code",
      "metadata": {
        "id": "buNzMLnAr1Fa",
        "colab_type": "code",
        "colab": {}
      },
      "source": [
        "q=deque()\n",
        "dx=[1,-1,0,0]#row move\n",
        "dy=[0,0,1,-1]#column move\n",
        "def valid(x,y,x1,y1,dx,dy):\n",
        "  val=tablero[x+dx][y+dx]\n",
        "  if val == -1:#no hay pared\n",
        "    return True\n",
        "  else:\n",
        "    return False\n",
        "\n",
        "def dfs(jug):\n",
        "  "
      ],
      "execution_count": null,
      "outputs": []
    },
    {
      "cell_type": "code",
      "metadata": {
        "id": "kzWmGak7eIZZ",
        "colab_type": "code",
        "colab": {}
      },
      "source": [
        ""
      ],
      "execution_count": null,
      "outputs": []
    }
  ]
}