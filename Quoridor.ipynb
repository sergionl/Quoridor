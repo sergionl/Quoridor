{
  "nbformat": 4,
  "nbformat_minor": 0,
  "metadata": {
    "colab": {
      "name": "Quoridor.ipynb",
      "provenance": [],
      "collapsed_sections": [],
      "authorship_tag": "ABX9TyMhltjviqhz3LoheQvxs5hQ",
      "include_colab_link": true
    },
    "kernelspec": {
      "name": "python3",
      "display_name": "Python 3"
    }
  },
  "cells": [
    {
      "cell_type": "markdown",
      "metadata": {
        "id": "view-in-github",
        "colab_type": "text"
      },
      "source": [
        "<a href=\"https://colab.research.google.com/github/sergionl/Quoridor/blob/master/Quoridor.ipynb\" target=\"_parent\"><img src=\"https://colab.research.google.com/assets/colab-badge.svg\" alt=\"Open In Colab\"/></a>"
      ]
    },
    {
      "cell_type": "markdown",
      "metadata": {
        "id": "nBs0MEazhQUo",
        "colab_type": "text"
      },
      "source": [
        "# Inicializar\n",
        "En esta sección de codigo se inicializa la matriz que representara el tablero. Ademas se inicializa a los jugadores y se colocaran en la matriz, estos estaran representados por un numero(1,2,3,4)"
      ]
    },
    {
      "cell_type": "code",
      "metadata": {
        "id": "8_FzjMWFRt4a",
        "colab_type": "code",
        "colab": {
          "base_uri": "https://localhost:8080/",
          "height": 153
        },
        "outputId": "dcd0a45a-05c0-4e29-80ff-416d7a9b4802"
      },
      "source": [
        "n=int(input())\n",
        "mat = []\n",
        "numj=2\n",
        "for i in range(n):\n",
        "  mat.append([0]*n)\n",
        "posinicial=[(0,n//2),(n-1,n//2),(n//2,0),(n//2,n-1)]\n",
        "posactual=[]\n",
        "for i in range(numj):\n",
        "  x,y=posinicial[i]\n",
        "  mat[x][y]=i+1\n",
        "  posactual.append((x,y))\n",
        "  \n",
        "\n",
        "for i in range(n):\n",
        "  print(mat[i])"
      ],
      "execution_count": 19,
      "outputs": [
        {
          "output_type": "stream",
          "text": [
            "5\n",
            "(0, 2)\n",
            "(4, 2)\n",
            "[0, 0, 1, 0, 0]\n",
            "[0, 0, 0, 0, 0]\n",
            "[0, 0, 0, 0, 0]\n",
            "[0, 0, 0, 0, 0]\n",
            "[0, 0, 2, 0, 0]\n"
          ],
          "name": "stdout"
        }
      ]
    },
    {
      "cell_type": "code",
      "metadata": {
        "id": "kzWmGak7eIZZ",
        "colab_type": "code",
        "colab": {}
      },
      "source": [
        ""
      ],
      "execution_count": null,
      "outputs": []
    }
  ]
}